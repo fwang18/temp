{
 "cells": [
  {
   "cell_type": "code",
   "execution_count": 1,
   "metadata": {
    "collapsed": true
   },
   "outputs": [],
   "source": [
    "import numpy as np\n",
    "import pandas as pd\n",
    "from sklearn.ensemble import RandomForestRegressor, RandomForestClassifier\n",
    "from sklearn import metrics"
   ]
  },
  {
   "cell_type": "code",
   "execution_count": 2,
   "metadata": {
    "collapsed": true
   },
   "outputs": [],
   "source": [
    "def process_dfs(train_file):\n",
    "    train_df=pd.read_csv(train_file)\n",
    "    train_df=train_df.drop('FL_DATE', axis=1)\n",
    "    train_df=train_df.drop('ORIGIN_CITY_NAME', axis=1)\n",
    "    train_df=train_df.drop('DEST_CITY_NAME', axis=1)\n",
    "    train_df=train_df.drop('Unnamed: 13', axis=1)\n",
    "    train_df=train_df.drop('ORIGIN', axis=1)\n",
    "    train_df=train_df.drop('UNIQUE_CARRIER', axis=1)\n",
    "    train_df=train_df.drop('DEST', axis=1)\n",
    "    train_df=one_hot_encodings(train_df)\n",
    "    \n",
    "    return train_df\n",
    "\n",
    "def one_hot_encodings(df):\n",
    "    for item in df.columns:\n",
    "        if df[item].dtypes=='O':\n",
    "            df[item]=df[item].astype('category')\n",
    "    df=pd.get_dummies(df)\n",
    "    return df"
   ]
  },
  {
   "cell_type": "code",
   "execution_count": 3,
   "metadata": {},
   "outputs": [],
   "source": [
    "train= process_dfs(\"./aggregated.csv\")"
   ]
  },
  {
   "cell_type": "code",
   "execution_count": 4,
   "metadata": {},
   "outputs": [
    {
     "data": {
      "text/html": [
       "<div>\n",
       "<style>\n",
       "    .dataframe thead tr:only-child th {\n",
       "        text-align: right;\n",
       "    }\n",
       "\n",
       "    .dataframe thead th {\n",
       "        text-align: left;\n",
       "    }\n",
       "\n",
       "    .dataframe tbody tr th {\n",
       "        vertical-align: top;\n",
       "    }\n",
       "</style>\n",
       "<table border=\"1\" class=\"dataframe\">\n",
       "  <thead>\n",
       "    <tr style=\"text-align: right;\">\n",
       "      <th></th>\n",
       "      <th>MONTH</th>\n",
       "      <th>DAY_OF_WEEK</th>\n",
       "      <th>FL_NUM</th>\n",
       "      <th>CRS_DEP_TIME</th>\n",
       "      <th>ARR_DEL15</th>\n",
       "      <th>CRS_ELAPSED_TIME</th>\n",
       "      <th>DISTANCE</th>\n",
       "    </tr>\n",
       "  </thead>\n",
       "  <tbody>\n",
       "    <tr>\n",
       "      <th>0</th>\n",
       "      <td>2.0</td>\n",
       "      <td>6.0</td>\n",
       "      <td>28.0</td>\n",
       "      <td>1000.0</td>\n",
       "      <td>0.0</td>\n",
       "      <td>156.0</td>\n",
       "      <td>937.0</td>\n",
       "    </tr>\n",
       "    <tr>\n",
       "      <th>1</th>\n",
       "      <td>2.0</td>\n",
       "      <td>7.0</td>\n",
       "      <td>28.0</td>\n",
       "      <td>739.0</td>\n",
       "      <td>0.0</td>\n",
       "      <td>153.0</td>\n",
       "      <td>937.0</td>\n",
       "    </tr>\n",
       "    <tr>\n",
       "      <th>2</th>\n",
       "      <td>2.0</td>\n",
       "      <td>1.0</td>\n",
       "      <td>28.0</td>\n",
       "      <td>1028.0</td>\n",
       "      <td>0.0</td>\n",
       "      <td>158.0</td>\n",
       "      <td>937.0</td>\n",
       "    </tr>\n",
       "    <tr>\n",
       "      <th>3</th>\n",
       "      <td>2.0</td>\n",
       "      <td>2.0</td>\n",
       "      <td>28.0</td>\n",
       "      <td>739.0</td>\n",
       "      <td>0.0</td>\n",
       "      <td>153.0</td>\n",
       "      <td>937.0</td>\n",
       "    </tr>\n",
       "    <tr>\n",
       "      <th>4</th>\n",
       "      <td>2.0</td>\n",
       "      <td>3.0</td>\n",
       "      <td>33.0</td>\n",
       "      <td>1907.0</td>\n",
       "      <td>0.0</td>\n",
       "      <td>90.0</td>\n",
       "      <td>266.0</td>\n",
       "    </tr>\n",
       "  </tbody>\n",
       "</table>\n",
       "</div>"
      ],
      "text/plain": [
       "   MONTH  DAY_OF_WEEK  FL_NUM  CRS_DEP_TIME  ARR_DEL15  CRS_ELAPSED_TIME  \\\n",
       "0    2.0          6.0    28.0        1000.0        0.0             156.0   \n",
       "1    2.0          7.0    28.0         739.0        0.0             153.0   \n",
       "2    2.0          1.0    28.0        1028.0        0.0             158.0   \n",
       "3    2.0          2.0    28.0         739.0        0.0             153.0   \n",
       "4    2.0          3.0    33.0        1907.0        0.0              90.0   \n",
       "\n",
       "   DISTANCE  \n",
       "0     937.0  \n",
       "1     937.0  \n",
       "2     937.0  \n",
       "3     937.0  \n",
       "4     266.0  "
      ]
     },
     "execution_count": 4,
     "metadata": {},
     "output_type": "execute_result"
    }
   ],
   "source": [
    "train.head()"
   ]
  },
  {
   "cell_type": "code",
   "execution_count": 5,
   "metadata": {},
   "outputs": [],
   "source": [
    "training=train.iloc[1:4103483, :]\n",
    "validation=train.iloc[4103483:5129354, :]"
   ]
  },
  {
   "cell_type": "code",
   "execution_count": 6,
   "metadata": {},
   "outputs": [
    {
     "data": {
      "text/plain": [
       "True"
      ]
     },
     "execution_count": 6,
     "metadata": {},
     "output_type": "execute_result"
    }
   ],
   "source": [
    "np.any(np.isnan(training))"
   ]
  },
  {
   "cell_type": "code",
   "execution_count": 7,
   "metadata": {
    "collapsed": true
   },
   "outputs": [],
   "source": [
    "#training=training.fillna(training.mean())\n",
    "#validation=validation.fillna(validation.mean())\n",
    "training=pd.DataFrame(training).fillna(0)\n",
    "validation=pd.DataFrame(validation).fillna(0)"
   ]
  },
  {
   "cell_type": "code",
   "execution_count": 8,
   "metadata": {
    "collapsed": true
   },
   "outputs": [],
   "source": [
    "training.to_csv('./training.csv')\n",
    "validation.to_csv('./validation.csv')"
   ]
  },
  {
   "cell_type": "code",
   "execution_count": 9,
   "metadata": {
    "collapsed": true
   },
   "outputs": [],
   "source": [
    "training=pd.read_csv('./training.csv')\n",
    "validation=pd.read_csv('./validation.csv')"
   ]
  },
  {
   "cell_type": "code",
   "execution_count": null,
   "metadata": {},
   "outputs": [
    {
     "data": {
      "text/html": [
       "<div>\n",
       "<style>\n",
       "    .dataframe thead tr:only-child th {\n",
       "        text-align: right;\n",
       "    }\n",
       "\n",
       "    .dataframe thead th {\n",
       "        text-align: left;\n",
       "    }\n",
       "\n",
       "    .dataframe tbody tr th {\n",
       "        vertical-align: top;\n",
       "    }\n",
       "</style>\n",
       "<table border=\"1\" class=\"dataframe\">\n",
       "  <thead>\n",
       "    <tr style=\"text-align: right;\">\n",
       "      <th></th>\n",
       "      <th>Unnamed: 0</th>\n",
       "      <th>MONTH</th>\n",
       "      <th>DAY_OF_WEEK</th>\n",
       "      <th>FL_NUM</th>\n",
       "      <th>CRS_DEP_TIME</th>\n",
       "      <th>ARR_DEL15</th>\n",
       "      <th>CRS_ELAPSED_TIME</th>\n",
       "      <th>DISTANCE</th>\n",
       "    </tr>\n",
       "  </thead>\n",
       "  <tbody>\n",
       "    <tr>\n",
       "      <th>0</th>\n",
       "      <td>4103483</td>\n",
       "      <td>9.0</td>\n",
       "      <td>5.0</td>\n",
       "      <td>2923.0</td>\n",
       "      <td>800.0</td>\n",
       "      <td>0.0</td>\n",
       "      <td>105.0</td>\n",
       "      <td>623.0</td>\n",
       "    </tr>\n",
       "    <tr>\n",
       "      <th>1</th>\n",
       "      <td>4103484</td>\n",
       "      <td>9.0</td>\n",
       "      <td>5.0</td>\n",
       "      <td>4251.0</td>\n",
       "      <td>1855.0</td>\n",
       "      <td>0.0</td>\n",
       "      <td>105.0</td>\n",
       "      <td>623.0</td>\n",
       "    </tr>\n",
       "    <tr>\n",
       "      <th>2</th>\n",
       "      <td>4103485</td>\n",
       "      <td>9.0</td>\n",
       "      <td>5.0</td>\n",
       "      <td>791.0</td>\n",
       "      <td>1335.0</td>\n",
       "      <td>0.0</td>\n",
       "      <td>95.0</td>\n",
       "      <td>562.0</td>\n",
       "    </tr>\n",
       "    <tr>\n",
       "      <th>3</th>\n",
       "      <td>4103486</td>\n",
       "      <td>9.0</td>\n",
       "      <td>5.0</td>\n",
       "      <td>1747.0</td>\n",
       "      <td>2115.0</td>\n",
       "      <td>0.0</td>\n",
       "      <td>95.0</td>\n",
       "      <td>562.0</td>\n",
       "    </tr>\n",
       "    <tr>\n",
       "      <th>4</th>\n",
       "      <td>4103487</td>\n",
       "      <td>9.0</td>\n",
       "      <td>5.0</td>\n",
       "      <td>3199.0</td>\n",
       "      <td>1005.0</td>\n",
       "      <td>0.0</td>\n",
       "      <td>95.0</td>\n",
       "      <td>562.0</td>\n",
       "    </tr>\n",
       "  </tbody>\n",
       "</table>\n",
       "</div>"
      ],
      "text/plain": [
       "   Unnamed: 0  MONTH  DAY_OF_WEEK  FL_NUM  CRS_DEP_TIME  ARR_DEL15  \\\n",
       "0     4103483    9.0          5.0  2923.0         800.0        0.0   \n",
       "1     4103484    9.0          5.0  4251.0        1855.0        0.0   \n",
       "2     4103485    9.0          5.0   791.0        1335.0        0.0   \n",
       "3     4103486    9.0          5.0  1747.0        2115.0        0.0   \n",
       "4     4103487    9.0          5.0  3199.0        1005.0        0.0   \n",
       "\n",
       "   CRS_ELAPSED_TIME  DISTANCE  \n",
       "0             105.0     623.0  \n",
       "1             105.0     623.0  \n",
       "2              95.0     562.0  \n",
       "3              95.0     562.0  \n",
       "4              95.0     562.0  "
      ]
     },
     "execution_count": 10,
     "metadata": {},
     "output_type": "execute_result"
    }
   ],
   "source": [
    "validation.head()"
   ]
  },
  {
   "cell_type": "code",
   "execution_count": null,
   "metadata": {},
   "outputs": [
    {
     "name": "stdout",
     "output_type": "stream",
     "text": [
      "Fitting 5 folds for each of 4 candidates, totalling 20 fits\n",
      "[CV] max_depth=5, max_features=0.25 ..................................\n",
      "[CV]  max_depth=5, max_features=0.25, score=0.820690218192585, total= 1.7min\n",
      "[CV] max_depth=5, max_features=0.25 ..................................\n"
     ]
    },
    {
     "name": "stderr",
     "output_type": "stream",
     "text": [
      "[Parallel(n_jobs=1)]: Done   1 out of   1 | elapsed:  1.8min remaining:    0.0s\n"
     ]
    },
    {
     "name": "stdout",
     "output_type": "stream",
     "text": [
      "[CV]  max_depth=5, max_features=0.25, score=0.482213289435687, total= 1.6min\n",
      "[CV] max_depth=5, max_features=0.25 ..................................\n"
     ]
    },
    {
     "name": "stderr",
     "output_type": "stream",
     "text": [
      "[Parallel(n_jobs=1)]: Done   2 out of   2 | elapsed:  3.6min remaining:    0.0s\n"
     ]
    },
    {
     "name": "stdout",
     "output_type": "stream",
     "text": [
      "[CV]  max_depth=5, max_features=0.25, score=0.8206899997075653, total= 1.6min\n",
      "[CV] max_depth=5, max_features=0.25 ..................................\n",
      "[CV]  max_depth=5, max_features=0.25, score=0.8206899997075653, total= 1.7min\n",
      "[CV] max_depth=5, max_features=0.25 ..................................\n",
      "[CV]  max_depth=5, max_features=0.25, score=0.8206899997075653, total= 1.5min\n",
      "[CV] max_depth=5, max_features=0.5 ...................................\n",
      "[CV]  max_depth=5, max_features=0.5, score=0.820690218192585, total= 3.2min\n",
      "[CV] max_depth=5, max_features=0.5 ...................................\n",
      "[CV]  max_depth=5, max_features=0.5, score=0.482213289435687, total= 3.1min\n",
      "[CV] max_depth=5, max_features=0.5 ...................................\n",
      "[CV]  max_depth=5, max_features=0.5, score=0.8206899997075653, total= 3.0min\n",
      "[CV] max_depth=5, max_features=0.5 ...................................\n",
      "[CV]  max_depth=5, max_features=0.5, score=0.3985409944729839, total= 3.4min\n",
      "[CV] max_depth=5, max_features=0.5 ...................................\n",
      "[CV]  max_depth=5, max_features=0.5, score=0.8206899997075653, total=294.7min\n",
      "[CV] max_depth=10, max_features=0.25 .................................\n",
      "[CV]  max_depth=10, max_features=0.25, score=0.820690218192585, total= 2.4min\n",
      "[CV] max_depth=10, max_features=0.25 .................................\n",
      "[CV]  max_depth=10, max_features=0.25, score=0.47911957762730945, total= 2.6min\n",
      "[CV] max_depth=10, max_features=0.25 .................................\n",
      "[CV]  max_depth=10, max_features=0.25, score=0.7307297708286625, total=20.9min\n",
      "[CV] max_depth=10, max_features=0.25 .................................\n",
      "[CV]  max_depth=10, max_features=0.25, score=0.30780703208008814, total=28.5min\n",
      "[CV] max_depth=10, max_features=0.25 .................................\n",
      "[CV]  max_depth=10, max_features=0.25, score=0.8206899997075653, total=21.7min\n",
      "[CV] max_depth=10, max_features=0.5 ..................................\n",
      "[CV]  max_depth=10, max_features=0.5, score=0.820690218192585, total=75.1min\n",
      "[CV] max_depth=10, max_features=0.5 ..................................\n"
     ]
    }
   ],
   "source": [
    "rf2=RandomForestClassifier(n_estimators=50, min_samples_split=50)\n",
    "from sklearn.model_selection import GridSearchCV\n",
    "\n",
    "params = {\n",
    "    'max_features': [0.25, 0.5],\n",
    "    'max_depth' : [5, 10]\n",
    "}\n",
    "gs = GridSearchCV(cv=5, param_grid=params, estimator=rf2, verbose=3)\n",
    "gs.fit(training.drop('ARR_DEL15', axis=1), training['ARR_DEL15'])\n",
    "print(gs.best_params_, gs.best_score_)"
   ]
  },
  {
   "cell_type": "code",
   "execution_count": null,
   "metadata": {
    "collapsed": true
   },
   "outputs": [],
   "source": [
    "pd.DataFrame(gs.grid_scores_).sort_values(by=['mean_validation_score'], ascending=False)"
   ]
  }
 ],
 "metadata": {
  "kernelspec": {
   "display_name": "Python 3",
   "language": "python",
   "name": "python3"
  },
  "language_info": {
   "codemirror_mode": {
    "name": "ipython",
    "version": 3
   },
   "file_extension": ".py",
   "mimetype": "text/x-python",
   "name": "python",
   "nbconvert_exporter": "python",
   "pygments_lexer": "ipython3",
   "version": "3.6.3"
  }
 },
 "nbformat": 4,
 "nbformat_minor": 2
}
